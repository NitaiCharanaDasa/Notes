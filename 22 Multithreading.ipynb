{
 "cells": [
  {
   "cell_type": "markdown",
   "metadata": {},
   "source": [
    "# Multithreading"
   ]
  },
  {
   "cell_type": "code",
   "execution_count": 1,
   "metadata": {},
   "outputs": [],
   "source": [
    "import threading\n"
   ]
  },
  {
   "cell_type": "code",
   "execution_count": 3,
   "metadata": {},
   "outputs": [],
   "source": [
    "def test(id):\n",
    "    print(\"Program Starts %d\"% id)"
   ]
  },
  {
   "cell_type": "code",
   "execution_count": 4,
   "metadata": {},
   "outputs": [
    {
     "name": "stdout",
     "output_type": "stream",
     "text": [
      "Program Starts 23\n"
     ]
    }
   ],
   "source": [
    "test(23)"
   ]
  },
  {
   "cell_type": "code",
   "execution_count": 12,
   "metadata": {},
   "outputs": [],
   "source": [
    "thread = [threading.Thread(target = test, args=(i,) ) for i in range(10)]"
   ]
  },
  {
   "cell_type": "code",
   "execution_count": 13,
   "metadata": {},
   "outputs": [
    {
     "name": "stdout",
     "output_type": "stream",
     "text": [
      "Program Starts 0\n",
      "Program Starts 1\n",
      "Program Starts 2\n",
      "Program Starts 3\n",
      "Program Starts 4\n",
      "Program Starts 5\n",
      "Program Starts 6\n",
      "Program Starts 7\n",
      "Program Starts 8\n",
      "Program Starts 9\n"
     ]
    }
   ],
   "source": [
    "for t in thread:\n",
    "    t.start()"
   ]
  },
  {
   "cell_type": "code",
   "execution_count": 14,
   "metadata": {},
   "outputs": [
    {
     "data": {
      "text/plain": [
       "[<Thread(Thread-16, stopped 14204)>,\n",
       " <Thread(Thread-17, stopped 9436)>,\n",
       " <Thread(Thread-18, stopped 12700)>,\n",
       " <Thread(Thread-19, stopped 14208)>,\n",
       " <Thread(Thread-20, stopped 14212)>,\n",
       " <Thread(Thread-21, stopped 2804)>,\n",
       " <Thread(Thread-22, stopped 12660)>,\n",
       " <Thread(Thread-23, stopped 4220)>,\n",
       " <Thread(Thread-24, stopped 12096)>,\n",
       " <Thread(Thread-25, stopped 4328)>]"
      ]
     },
     "execution_count": 14,
     "metadata": {},
     "output_type": "execute_result"
    }
   ],
   "source": [
    "thread"
   ]
  },
  {
   "cell_type": "code",
   "execution_count": 15,
   "metadata": {},
   "outputs": [
    {
     "data": {
      "text/plain": [
       "2127117257152"
      ]
     },
     "execution_count": 15,
     "metadata": {},
     "output_type": "execute_result"
    }
   ],
   "source": [
    "id(thread)"
   ]
  },
  {
   "cell_type": "code",
   "execution_count": 16,
   "metadata": {},
   "outputs": [],
   "source": [
    "import threading\n",
    "import urllib.request"
   ]
  },
  {
   "cell_type": "code",
   "execution_count": 22,
   "metadata": {},
   "outputs": [],
   "source": [
    "def file_down(url, filename):\n",
    "    urllib.request.urlretrieve(url,filename)"
   ]
  },
  {
   "cell_type": "code",
   "execution_count": 23,
   "metadata": {},
   "outputs": [],
   "source": [
    "file_down(\"file:///C:/Users/agam/Documents/courses/datascience/Python%20Practice/BankClass.log\", \"22_1_Mutlithreading.txt\")"
   ]
  },
  {
   "cell_type": "code",
   "execution_count": 24,
   "metadata": {},
   "outputs": [],
   "source": [
    "url_list = [\"file:///C:/Users/agam/Documents/courses/datascience/Python%20Practice/BankClass.log\", \"file:///C:/Users/agam/Documents/courses/datascience/test1.log\", \"file:///C:/Users/agam/Documents/courses/datascience/test21.txt\"]"
   ]
  },
  {
   "cell_type": "code",
   "execution_count": 25,
   "metadata": {},
   "outputs": [
    {
     "data": {
      "text/plain": [
       "['file:///C:/Users/agam/Documents/courses/datascience/Python%20Practice/BankClass.log',\n",
       " 'file:///C:/Users/agam/Documents/courses/datascience/test1.log',\n",
       " 'file:///C:/Users/agam/Documents/courses/datascience/test21.txt']"
      ]
     },
     "execution_count": 25,
     "metadata": {},
     "output_type": "execute_result"
    }
   ],
   "source": [
    "url_list"
   ]
  },
  {
   "cell_type": "code",
   "execution_count": 26,
   "metadata": {},
   "outputs": [],
   "source": [
    "file_name = [\"22_1_Mutlithreading.txt\", \"22_2_Mutlithreading.txt\", \"22_3_Mutlithreading.txt\"]"
   ]
  },
  {
   "cell_type": "code",
   "execution_count": 27,
   "metadata": {},
   "outputs": [
    {
     "data": {
      "text/plain": [
       "['22_1_Mutlithreading.txt',\n",
       " '22_2_Mutlithreading.txt',\n",
       " '22_3_Mutlithreading.txt']"
      ]
     },
     "execution_count": 27,
     "metadata": {},
     "output_type": "execute_result"
    }
   ],
   "source": [
    "file_name"
   ]
  },
  {
   "cell_type": "code",
   "execution_count": 28,
   "metadata": {},
   "outputs": [],
   "source": [
    "def file_down(url, filename):\n",
    "    urllib.request.urlretrieve(url,filename)"
   ]
  },
  {
   "cell_type": "code",
   "execution_count": 31,
   "metadata": {},
   "outputs": [],
   "source": [
    "thear = [threading.Thread(target = file_down, args = (url_list[i], file_name[i])) for i in range(len(url_list))]"
   ]
  },
  {
   "cell_type": "code",
   "execution_count": 32,
   "metadata": {},
   "outputs": [
    {
     "data": {
      "text/plain": [
       "[<Thread(Thread-26, initial)>,\n",
       " <Thread(Thread-27, initial)>,\n",
       " <Thread(Thread-28, initial)>]"
      ]
     },
     "execution_count": 32,
     "metadata": {},
     "output_type": "execute_result"
    }
   ],
   "source": [
    "thear"
   ]
  },
  {
   "cell_type": "code",
   "execution_count": 33,
   "metadata": {},
   "outputs": [],
   "source": [
    "for t in thear:\n",
    "    t.start()"
   ]
  },
  {
   "cell_type": "code",
   "execution_count": 34,
   "metadata": {},
   "outputs": [],
   "source": [
    "import time"
   ]
  },
  {
   "cell_type": "code",
   "execution_count": 51,
   "metadata": {},
   "outputs": [],
   "source": [
    "def test1(id):\n",
    "    for i in range(10):\n",
    "        print(\"Test1 %d printing %d %s \"%(id,i, time.ctime()))\n",
    "        time.sleep(1)"
   ]
  },
  {
   "cell_type": "code",
   "execution_count": 52,
   "metadata": {},
   "outputs": [
    {
     "name": "stdout",
     "output_type": "stream",
     "text": [
      "Test1 1 printing 0 Fri Jul  7 12:49:00 2023 \n",
      "Test1 1 printing 1 Fri Jul  7 12:49:01 2023 \n",
      "Test1 1 printing 2 Fri Jul  7 12:49:02 2023 \n",
      "Test1 1 printing 3 Fri Jul  7 12:49:03 2023 \n",
      "Test1 1 printing 4 Fri Jul  7 12:49:04 2023 \n",
      "Test1 1 printing 5 Fri Jul  7 12:49:05 2023 \n",
      "Test1 1 printing 6 Fri Jul  7 12:49:06 2023 \n",
      "Test1 1 printing 7 Fri Jul  7 12:49:07 2023 \n",
      "Test1 1 printing 8 Fri Jul  7 12:49:08 2023 \n",
      "Test1 1 printing 9 Fri Jul  7 12:49:09 2023 \n"
     ]
    }
   ],
   "source": [
    "test1(1)"
   ]
  },
  {
   "cell_type": "code",
   "execution_count": 53,
   "metadata": {},
   "outputs": [],
   "source": [
    "thread1 = [threading.Thread(target = test1, args = (i,)) for i in range(3)]"
   ]
  },
  {
   "cell_type": "code",
   "execution_count": 54,
   "metadata": {},
   "outputs": [
    {
     "name": "stdout",
     "output_type": "stream",
     "text": [
      "Test1 0 printing 0 Fri Jul  7 12:49:12 2023 \n",
      "Test1 1 printing 0 Fri Jul  7 12:49:12 2023 \n",
      "Test1 2 printing 0 Fri Jul  7 12:49:12 2023 \n",
      "Test1 0 printing 1 Fri Jul  7 12:49:13 2023 \n",
      "Test1 1 printing 1 Fri Jul  7 12:49:13 2023 \n",
      "Test1 2 printing 1 Fri Jul  7 12:49:13 2023 \n",
      "Test1 0 printing 2 Fri Jul  7 12:49:14 2023 \n",
      "Test1 1 printing 2 Fri Jul  7 12:49:14 2023 \n",
      "Test1 2 printing 2 Fri Jul  7 12:49:14 2023 \n",
      "Test1 0 printing 3 Fri Jul  7 12:49:15 2023 \n",
      "Test1 1 printing 3 Fri Jul  7 12:49:15 2023 \n",
      "Test1 2 printing 3 Fri Jul  7 12:49:15 2023 \n",
      "Test1 0 printing 4 Fri Jul  7 12:49:16 2023 \n",
      "Test1 1 printing 4 Fri Jul  7 12:49:16 2023 \n",
      "Test1 2 printing 4 Fri Jul  7 12:49:16 2023 \n",
      "Test1 0 printing 5 Fri Jul  7 12:49:17 2023 \n",
      "Test1 1 printing 5 Fri Jul  7 12:49:17 2023 \n",
      "Test1 2 printing 5 Fri Jul  7 12:49:17 2023 \n",
      "Test1 0 printing 6 Fri Jul  7 12:49:18 2023 \n",
      "Test1 1 printing 6 Fri Jul  7 12:49:18 2023 \n",
      "Test1 2 printing 6 Fri Jul  7 12:49:18 2023 \n",
      "Test1 0 printing 7 Fri Jul  7 12:49:19 2023 \n",
      "Test1 1 printing 7 Fri Jul  7 12:49:19 2023 \n",
      "Test1 2 printing 7 Fri Jul  7 12:49:19 2023 \n",
      "Test1 0 printing 8 Fri Jul  7 12:49:20 2023 \n",
      "Test1 1 printing 8 Fri Jul  7 12:49:20 2023 \n",
      "Test1 2 printing 8 Fri Jul  7 12:49:20 2023 \n",
      "Test1 0 printing 9 Fri Jul  7 12:49:21 2023 \n",
      "Test1 1 printing 9 Fri Jul  7 12:49:21 2023 \n",
      "Test1 2 printing 9 Fri Jul  7 12:49:21 2023 \n"
     ]
    }
   ],
   "source": [
    "for t in thread1:\n",
    "    t.start()\n",
    "#switching programms"
   ]
  },
  {
   "cell_type": "code",
   "execution_count": 55,
   "metadata": {},
   "outputs": [
    {
     "name": "stdout",
     "output_type": "stream",
     "text": [
      "Test1 0 printing 0 Fri Jul  7 12:49:50 2023\n",
      "Test1 0 printing 1 Fri Jul  7 12:49:50 2023\n",
      "Test1 0 printing 2 Fri Jul  7 12:49:50 2023\n",
      "Test1 0 printing 3 Fri Jul  7 12:49:50 2023\n",
      "Test1 0 printing 4 Fri Jul  7 12:49:50 2023\n",
      "Test1 0 printing 5 Fri Jul  7 12:49:50 2023\n",
      "Test1 0 printing 6 Fri Jul  7 12:49:50 2023\n",
      "Test1 0 printing 7 Fri Jul  7 12:49:50 2023\n",
      "Test1 0 printing 8 Fri Jul  7 12:49:50 2023\n",
      "Test1 0 printing 9 Fri Jul  7 12:49:50 2023\n",
      "Test1 1 printing 0 Fri Jul  7 12:49:50 2023\n",
      "Test1 1 printing 1 Fri Jul  7 12:49:50 2023\n",
      "Test1 1 printing 2 Fri Jul  7 12:49:50 2023\n",
      "Test1 1 printing 3 Fri Jul  7 12:49:50 2023\n",
      "Test1 1 printing 4 Fri Jul  7 12:49:50 2023\n",
      "Test1 1 printing 5 Fri Jul  7 12:49:50 2023\n",
      "Test1 1 printing 6 Fri Jul  7 12:49:50 2023\n",
      "Test1 1 printing 7 Fri Jul  7 12:49:50 2023\n",
      "Test1 1 printing 8 Fri Jul  7 12:49:50 2023\n",
      "Test1 1 printing 9 Fri Jul  7 12:49:50 2023\n",
      "Test1 2 printing 0 Fri Jul  7 12:49:50 2023\n",
      "Test1 2 printing 1 Fri Jul  7 12:49:50 2023\n",
      "Test1 2 printing 2 Fri Jul  7 12:49:50 2023\n",
      "Test1 2 printing 3 Fri Jul  7 12:49:50 2023\n",
      "Test1 2 printing 4 Fri Jul  7 12:49:50 2023\n",
      "Test1 2 printing 5 Fri Jul  7 12:49:50 2023\n",
      "Test1 2 printing 6 Fri Jul  7 12:49:50 2023\n",
      "Test1 2 printing 7 Fri Jul  7 12:49:50 2023\n",
      "Test1 2 printing 8 Fri Jul  7 12:49:50 2023\n",
      "Test1 2 printing 9 Fri Jul  7 12:49:50 2023\n"
     ]
    }
   ],
   "source": [
    "def test1(id):\n",
    "    for i in range(10):\n",
    "        print(\"Test1 %d printing %d %s\"%(id,i, time.ctime()))\n",
    "       # time.sleep(1) -- without time\n",
    "thread1 = [threading.Thread(target = test1, args = (i,)) for i in range(3)]\n",
    "for t in thread1:\n",
    "    t.start()"
   ]
  },
  {
   "cell_type": "code",
   "execution_count": 64,
   "metadata": {},
   "outputs": [
    {
     "name": "stdout",
     "output_type": "stream",
     "text": [
      "Test2 id is 0 has increased the shared_var by 1\n",
      "Test2 id is 1 has increased the shared_var by 2\n",
      "Test2 id is 2 has increased the shared_var by 3\n"
     ]
    }
   ],
   "source": [
    "share_var = 0\n",
    "lock_var = threading.Lock()\n",
    "def test2(id):\n",
    "    global share_var\n",
    "    with lock_var:\n",
    "        share_var = share_var+1\n",
    "        print(\"Test2 id is %d has increased the shared_var by %d\"%(id, share_var))\n",
    "thread1 = [threading.Thread(target=test2, args = (i,)) for i in range(3)]\n",
    "for t in thread1:\n",
    "    t.start()"
   ]
  },
  {
   "cell_type": "code",
   "execution_count": 65,
   "metadata": {},
   "outputs": [
    {
     "name": "stdout",
     "output_type": "stream",
     "text": [
      "Test2 id is 0 has increased the shared_var by 1\n",
      "Test2 id is 1 has increased the shared_var by 2\n",
      "Test2 id is 2 has increased the shared_var by 3\n"
     ]
    }
   ],
   "source": [
    "share_var = 0\n",
    "lock_var = threading.Lock()\n",
    "def test2(id):\n",
    "    global share_var\n",
    "    with lock_var:\n",
    "        share_var = share_var+1\n",
    "        print(\"Test2 id is %d has increased the shared_var by %d\"%(id, share_var))\n",
    "        time.sleep(1)\n",
    "thread1 = [threading.Thread(target=test2, args = (i,)) for i in range(3)]\n",
    "for t in thread1:\n",
    "    t.start()"
   ]
  },
  {
   "cell_type": "markdown",
   "metadata": {},
   "source": [
    "Concluded"
   ]
  }
 ],
 "metadata": {
  "kernelspec": {
   "display_name": "Python 3",
   "language": "python",
   "name": "python3"
  },
  "language_info": {
   "codemirror_mode": {
    "name": "ipython",
    "version": 3
   },
   "file_extension": ".py",
   "mimetype": "text/x-python",
   "name": "python",
   "nbconvert_exporter": "python",
   "pygments_lexer": "ipython3",
   "version": "3.8.3"
  }
 },
 "nbformat": 4,
 "nbformat_minor": 4
}
