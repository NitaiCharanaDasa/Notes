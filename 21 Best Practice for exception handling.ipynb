{
 "cells": [
  {
   "cell_type": "markdown",
   "metadata": {},
   "source": [
    "# Best Practice for exception handling"
   ]
  },
  {
   "cell_type": "code",
   "execution_count": 1,
   "metadata": {},
   "outputs": [
    {
     "name": "stdout",
     "output_type": "stream",
     "text": [
      "division by zero\n"
     ]
    }
   ],
   "source": [
    "# always use specific exception\n",
    "# NOt Good\n",
    "try :\n",
    "    10/0\n",
    "except Exception  as e:\n",
    "    print(e)"
   ]
  },
  {
   "cell_type": "code",
   "execution_count": 2,
   "metadata": {},
   "outputs": [
    {
     "name": "stdout",
     "output_type": "stream",
     "text": [
      "division by zero\n"
     ]
    }
   ],
   "source": [
    "# Good\n",
    "try :\n",
    "    10/0\n",
    "except ZeroDivisionError  as e:\n",
    "    print(e)"
   ]
  },
  {
   "cell_type": "code",
   "execution_count": 7,
   "metadata": {},
   "outputs": [
    {
     "name": "stdout",
     "output_type": "stream",
     "text": [
      "Handeling the error : division by zero\n"
     ]
    }
   ],
   "source": [
    "#print always a proper msg\n",
    "try :\n",
    "    10/0\n",
    "except ZeroDivisionError  as e:\n",
    "    print(\"Handeling the error :\" , e)"
   ]
  },
  {
   "cell_type": "code",
   "execution_count": 8,
   "metadata": {},
   "outputs": [],
   "source": [
    "# always try to log your error\n",
    "import logging\n",
    "logging.basicConfig(filename = \"21_bestpractice_errorhandeling.log\", level = logging.ERROR)\n",
    "try :\n",
    "    10/0\n",
    "except ZeroDivisionError  as e:\n",
    "    logging.error(\"I am trying to handle the error : {}\".format(e))"
   ]
  },
  {
   "cell_type": "code",
   "execution_count": 9,
   "metadata": {},
   "outputs": [],
   "source": [
    "# always avoid to write multiple exception handeling\n",
    "#not good\n",
    "try :\n",
    "    10/0\n",
    "except FileNotFoundError  as e:\n",
    "    logging.error(\"I am trying to handle FileNotFoundError error : {}\".format(e))\n",
    "except AttributeError as e:\n",
    "    logging.error(\"I am trying to handle AttributeError error : {}\".format(e))\n",
    "except ZeroDivisionError  as e:\n",
    "    logging.error(\"I am trying to handle the error : {}\".format(e))"
   ]
  },
  {
   "cell_type": "code",
   "execution_count": 10,
   "metadata": {},
   "outputs": [],
   "source": [
    "#documetn all the Errors\n",
    "#cleanup all the resources\n",
    "try :\n",
    "    with open(\"test21.txt\", \"w\") as f:\n",
    "        f.write(\"This is my data\")\n",
    "except FileNotFoundError  as e:\n",
    "    logging.error(\"I am trying to handle FileNotFoundError error : {}\".format(e))\n",
    "finally:\n",
    "    f.close()"
   ]
  },
  {
   "cell_type": "markdown",
   "metadata": {},
   "source": [
    "concluded\n"
   ]
  }
 ],
 "metadata": {
  "kernelspec": {
   "display_name": "Python 3",
   "language": "python",
   "name": "python3"
  },
  "language_info": {
   "codemirror_mode": {
    "name": "ipython",
    "version": 3
   },
   "file_extension": ".py",
   "mimetype": "text/x-python",
   "name": "python",
   "nbconvert_exporter": "python",
   "pygments_lexer": "ipython3",
   "version": "3.8.3"
  }
 },
 "nbformat": 4,
 "nbformat_minor": 4
}
