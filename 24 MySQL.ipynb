{
 "cells": [
  {
   "cell_type": "markdown",
   "metadata": {},
   "source": [
    "#  MySQL"
   ]
  },
  {
   "cell_type": "code",
   "execution_count": 4,
   "metadata": {},
   "outputs": [
    {
     "name": "stdout",
     "output_type": "stream",
     "text": [
      "Connected to MySQl database\n"
     ]
    }
   ],
   "source": [
    "import mysql.connector\n",
    "#check connectivity\n",
    "from mysql.connector import Error\n",
    "def connect():\n",
    "    mydb = None\n",
    "    try:\n",
    "        mydb = mysql.connector.connect(\n",
    "                host = \"localhost\",\n",
    "                user = \"root\",\n",
    "                password = \"2003\")\n",
    "        \n",
    "        if mydb.is_connected():\n",
    "            print(\"Connected to MySQl database\")\n",
    "            \n",
    "    except Error as e:\n",
    "        print(e)\n",
    "        \n",
    "    finally:\n",
    "        if mydb is not None and mydb.is_connected():\n",
    "            mydb.close()\n",
    "            \n",
    "if __name__ ==\"__main__\":\n",
    "    connect()\n",
    "            "
   ]
  },
  {
   "cell_type": "code",
   "execution_count": 7,
   "metadata": {},
   "outputs": [
    {
     "name": "stdout",
     "output_type": "stream",
     "text": [
      "<mysql.connector.connection_cext.CMySQLConnection object at 0x0000019C7D4A7B50>\n",
      "('information_schema',)\n",
      "('ip',)\n",
      "('mysql',)\n",
      "('mysql_practice',)\n",
      "('performance_schema',)\n",
      "('sys',)\n"
     ]
    }
   ],
   "source": [
    "import mysql.connector\n",
    "\n",
    "\n",
    "mydb = mysql.connector.connect(\n",
    "                host = \"localhost\",\n",
    "                user = \"root\",\n",
    "                password = \"2003\")\n",
    "print(mydb)\n",
    "mycursor = mydb.cursor()\n",
    "mycursor.execute(\"SHOW DATABASES\")\n",
    "for x in mycursor:\n",
    "    print(x)"
   ]
  },
  {
   "cell_type": "code",
   "execution_count": 8,
   "metadata": {},
   "outputs": [],
   "source": [
    "#creating database\n",
    "mycursor.execute(\"CREATE DATABASE if not exists test1\")\n",
    "mydb.close()"
   ]
  },
  {
   "cell_type": "code",
   "execution_count": 30,
   "metadata": {},
   "outputs": [
    {
     "name": "stdout",
     "output_type": "stream",
     "text": [
      "('information_schema',)\n",
      "('ip',)\n",
      "('mysql',)\n",
      "('mysql_practice',)\n",
      "('performance_schema',)\n",
      "('sys',)\n",
      "('test1',)\n"
     ]
    }
   ],
   "source": [
    "import mysql.connector\n",
    "\n",
    "\n",
    "mydb = mysql.connector.connect(\n",
    "                host = \"localhost\",\n",
    "                user = \"root\",\n",
    "                password = \"2003\")\n",
    "\n",
    "mycursor = mydb.cursor()\n",
    "mycursor.execute(\"SHOW DATABASES\")\n",
    "for x in mycursor:\n",
    "    print(x)"
   ]
  },
  {
   "cell_type": "code",
   "execution_count": 31,
   "metadata": {},
   "outputs": [],
   "source": [
    "mycursor.execute(\"CREATE TABLE if not exists test1.test_table(c1 INT, c2 VARCHAR(50), c3 FLOAT, c4 INT)\")\n"
   ]
  },
  {
   "cell_type": "code",
   "execution_count": 36,
   "metadata": {},
   "outputs": [
    {
     "name": "stdout",
     "output_type": "stream",
     "text": [
      "(123, 'agam', 23.3, 22)\n"
     ]
    }
   ],
   "source": [
    "mycursor.execute(\"insert into test1.test_table values(123, 'agam', 23.3, 22)\")\n",
    "mydb.commit()\n",
    "mycursor.execute(\"select * from test1.test_table\")\n",
    "for x in mycursor.fetchall():\n",
    "    print(x)"
   ]
  },
  {
   "cell_type": "code",
   "execution_count": 38,
   "metadata": {},
   "outputs": [
    {
     "name": "stdout",
     "output_type": "stream",
     "text": [
      "(123, 22)\n"
     ]
    }
   ],
   "source": [
    "mycursor.execute(\"select c1, c4 from test1.test_table\")\n",
    "for x in mycursor.fetchall():\n",
    "    print(x)"
   ]
  },
  {
   "cell_type": "code",
   "execution_count": null,
   "metadata": {},
   "outputs": [],
   "source": [
    "6yyt"
   ]
  }
 ],
 "metadata": {
  "kernelspec": {
   "display_name": "Python 3",
   "language": "python",
   "name": "python3"
  },
  "language_info": {
   "codemirror_mode": {
    "name": "ipython",
    "version": 3
   },
   "file_extension": ".py",
   "mimetype": "text/x-python",
   "name": "python",
   "nbconvert_exporter": "python",
   "pygments_lexer": "ipython3",
   "version": "3.8.3"
  }
 },
 "nbformat": 4,
 "nbformat_minor": 4
}
